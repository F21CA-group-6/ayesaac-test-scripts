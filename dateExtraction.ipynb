{
  "nbformat": 4,
  "nbformat_minor": 0,
  "metadata": {
    "colab": {
      "name": "dateExtraction",
      "provenance": [],
      "collapsed_sections": []
    },
    "kernelspec": {
      "name": "python3",
      "display_name": "Python 3"
    },
    "accelerator": "GPU"
  },
  "cells": [
    {
      "cell_type": "markdown",
      "metadata": {
        "id": "wWdMF9lkKpyI"
      },
      "source": [
        "# Date extraction notebook\n",
        "\n",
        "\n"
      ]
    },
    {
      "cell_type": "code",
      "metadata": {
        "colab": {
          "base_uri": "https://localhost:8080/"
        },
        "id": "mGx5obLGPBwI",
        "outputId": "e5ce9c7c-5abd-426c-a4b2-119f4af6c56f"
      },
      "source": [
        "try:\n",
        "  # %tensorflow_version only exists in Colab.\n",
        "  %tensorflow_version 2.x\n",
        "except Exception:\n",
        "  pass\n",
        "\n",
        "!pip install pytesseract        \n",
        "!sudo apt install tesseract-ocr "
      ],
      "execution_count": 1,
      "outputs": [
        {
          "output_type": "stream",
          "text": [
            "Requirement already satisfied: pytesseract in /usr/local/lib/python3.7/dist-packages (0.3.7)\n",
            "Requirement already satisfied: Pillow in /usr/local/lib/python3.7/dist-packages (from pytesseract) (7.0.0)\n",
            "Reading package lists... Done\n",
            "Building dependency tree       \n",
            "Reading state information... Done\n",
            "tesseract-ocr is already the newest version (4.00~git2288-10f4998a-2).\n",
            "0 upgraded, 0 newly installed, 0 to remove and 30 not upgraded.\n"
          ],
          "name": "stdout"
        }
      ]
    },
    {
      "cell_type": "code",
      "metadata": {
        "id": "z7GnC6SNTFKm"
      },
      "source": [
        "import numpy as np\n",
        "\n",
        "#SOURCE CODE : https://becominghuman.ai/how-to-automatically-deskew-straighten-a-text-image-using-opencv-a0c30aed83df\n",
        "\n",
        "# Calculate skew angle of an image\n",
        "def getSkewAngle(cvImage) -> float:\n",
        "    # Prep image, copy, convert to gray scale, blur, and threshold\n",
        "    newImage = cvImage.copy()\n",
        "    gray = cv2.cvtColor(newImage, cv2.COLOR_BGR2GRAY)\n",
        "    blur = cv2.GaussianBlur(gray, (9, 9), 0)\n",
        "    thresh = cv2.threshold(blur, 0, 255, cv2.THRESH_BINARY_INV + cv2.THRESH_OTSU)[1]\n",
        "\n",
        "    # Apply dilate to merge text into meaningful lines/paragraphs.\n",
        "    # Use larger kernel on X axis to merge characters into single line, cancelling out any spaces.\n",
        "    # But use smaller kernel on Y axis to separate between different blocks of text\n",
        "    kernel = cv2.getStructuringElement(cv2.MORPH_RECT, (30, 5))\n",
        "    dilate = cv2.dilate(thresh, kernel, iterations=5)\n",
        "\n",
        "    # Find all contours\n",
        "    contours, hierarchy = cv2.findContours(dilate, cv2.RETR_LIST, cv2.CHAIN_APPROX_SIMPLE)\n",
        "    contours = sorted(contours, key = cv2.contourArea, reverse = True)\n",
        "\n",
        "    # Find largest contour and surround in min area box\n",
        "    largestContour = contours[0]\n",
        "    minAreaRect = cv2.minAreaRect(largestContour)\n",
        "\n",
        "    # Determine the angle. Convert it to the value that was originally used to obtain skewed image\n",
        "    angle = minAreaRect[-1]\n",
        "    if angle < -45:\n",
        "        angle = 90 + angle\n",
        "    return -1.0 * angle\n",
        "    \n",
        "def rotate_image(image, angle):\n",
        "  image_center = tuple(np.array(image.shape[1::-1]) / 2)\n",
        "  rot_mat = cv2.getRotationMatrix2D(image_center, angle, 1.0)\n",
        "  result = cv2.warpAffine(image, rot_mat, image.shape[1::-1], flags=cv2.INTER_LINEAR)\n",
        "  return result"
      ],
      "execution_count": 2,
      "outputs": []
    },
    {
      "cell_type": "markdown",
      "metadata": {
        "id": "hBZBZZwtvQmg"
      },
      "source": [
        "## Date extraction function"
      ]
    },
    {
      "cell_type": "code",
      "metadata": {
        "id": "tX9YeQXOvL0R"
      },
      "source": [
        "import re\n",
        "from datetime import datetime\n",
        "\n",
        "def readDate(text):\n",
        "  # NORMALISING TEXT\n",
        "  textNormalised = re.sub(\"[^a-zA-Z\\d ]\", \" \", text) # Remove punctuation\n",
        "\n",
        "  # SEARCHING FOR DATES\n",
        "  regexDateFormats = [\\\n",
        "                      \"\\d\\d \\d\\d \\d\\d\",\\\n",
        "                      \"\\d\\d \\d\\d \\d\\d\\d\\d\",\\\n",
        "                      \"\\d\\d [a-z][a-z][a-z]\",\\\n",
        "                      \"[a-z][a-z][a-z] \\d\\d\\d\\d\"\\\n",
        "                      ]\n",
        "\n",
        "  # See possible format: https://www.programiz.com/python-programming/datetime/strptime\n",
        "  dateFormats =[\\\n",
        "                \"%d %m %y\",\\\n",
        "                \"%d %m %Y\",\\\n",
        "                \"%d %b %Y\",\\\n",
        "                \"%b %Y\"\\\n",
        "                ] \n",
        "\n",
        "  i = 0\n",
        "  dateList = []\n",
        "  while i < len(regexDateFormats):\n",
        "    prevLength = len(dateList)\n",
        "    dateList = dateList + re.findall(regexDateFormats[i], textNormalised, re.IGNORECASE)\n",
        "    \n",
        "    # FILTERING DATES FOUND\n",
        "    j = prevLength\n",
        "    while j < len(dateList):\n",
        "      # If year is missing (matched  with regex \"\\d\\d [a-z][a-z][a-z]\"\")...\n",
        "      if i == 2: \n",
        "        # ... we assume it is current year\n",
        "        now = datetime.now()\n",
        "        dateList[j] = dateList[j] + \" \" + str(now.year)\n",
        "        dateFormat = \"%d %b %Y\" #dd MMM (yyyy)\n",
        "      \n",
        "      # try to convert a date to datetime\n",
        "      try:\n",
        "        date = datetime.strptime(dateList[j], dateFormats[i])\n",
        "        dateList[j] = date\n",
        "        j = j + 1\n",
        "      # And discard invalid dates that can't be convert to datetime\n",
        "      except ValueError:\n",
        "        dateList.pop(j)\n",
        "\n",
        "    i = i + 1\n",
        "\n",
        "  # Return none if no date found\n",
        "  if len(dateList) == 0:\n",
        "    return None\n",
        "\n",
        "  # We assume the last date found on the package correspond to expirity date\n",
        "  return dateList[-1]\n"
      ],
      "execution_count": 97,
      "outputs": []
    },
    {
      "cell_type": "markdown",
      "metadata": {
        "id": "GaAsGn2PUdb6"
      },
      "source": [
        "## Testing"
      ]
    },
    {
      "cell_type": "code",
      "metadata": {
        "colab": {
          "base_uri": "https://localhost:8080/"
        },
        "id": "2G7iCNPFQASQ",
        "outputId": "7296f174-1509-4a1a-f38f-5545aa6f2aea"
      },
      "source": [
        "import glob\n",
        "import cv2\n",
        "import pytesseract\n",
        "import numpy as np\n",
        "\n",
        "files = sorted(glob.glob('filesSelection/*.jpg'))\n",
        "\n",
        "for file in files:\n",
        "  image = cv2.imread(file)\n",
        "\n",
        "  image = rotate_image(image, -getSkewAngle(image))\n",
        "\n",
        "  extractedInformation = pytesseract.image_to_string(image)\n",
        "\n",
        "  print(readDate(extractedInformation))\n"
      ],
      "execution_count": 98,
      "outputs": [
        {
          "output_type": "stream",
          "text": [
            "None\n",
            "None\n",
            "None\n",
            "None\n",
            "2021-03-14 00:00:00\n",
            "None\n",
            "None\n",
            "None\n",
            "None\n",
            "None\n",
            "None\n",
            "None\n",
            "None\n",
            "2021-03-21 00:00:00\n",
            "None\n",
            "None\n",
            "None\n",
            "None\n",
            "None\n",
            "None\n",
            "None\n",
            "None\n",
            "None\n",
            "None\n",
            "2011-10-04 00:00:00\n",
            "None\n",
            "None\n",
            "None\n",
            "None\n",
            "None\n",
            "None\n",
            "None\n",
            "None\n",
            "None\n",
            "None\n",
            "None\n",
            "None\n",
            "None\n",
            "None\n",
            "None\n",
            "None\n",
            "2020-12-30 00:00:00\n",
            "None\n",
            "None\n",
            "None\n",
            "None\n",
            "None\n",
            "None\n",
            "None\n",
            "None\n",
            "None\n",
            "None\n",
            "None\n",
            "None\n",
            "None\n"
          ],
          "name": "stdout"
        }
      ]
    }
  ]
}